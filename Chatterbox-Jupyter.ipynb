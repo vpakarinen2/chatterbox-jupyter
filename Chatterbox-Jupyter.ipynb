{
 "cells": [
  {
   "cell_type": "code",
   "execution_count": null,
   "id": "75ba94c2-3264-4e55-b8c3-c5d1a7d97853",
   "metadata": {},
   "outputs": [],
   "source": [
    "pip uninstall torch torchvision torchaudio -y"
   ]
  },
  {
   "cell_type": "code",
   "execution_count": null,
   "id": "9240dec7-9597-4e1b-8d90-5fd5cf01c4df",
   "metadata": {
    "scrolled": true
   },
   "outputs": [],
   "source": [
    "!pip install torch==2.6.0 torchvision==0.21.0 torchaudio==2.6.0 --index-url https://download.pytorch.org/whl/cu124\n",
    "!pip install chatterbox-tts\n",
    "\n",
    "import torchaudio as ta\n",
    "from chatterbox.tts import ChatterboxTTS\n",
    "from chatterbox.mtl_tts import ChatterboxMultilingualTTS"
   ]
  },
  {
   "cell_type": "code",
   "execution_count": null,
   "id": "075a7d2d-d16b-4491-a815-b815ae0660cb",
   "metadata": {},
   "outputs": [],
   "source": [
    "def load_text_from_file(filepath):\n",
    "    with open(filepath, \"r\", encoding=\"utf-8\") as file:\n",
    "        return file.read()\n",
    "\n",
    "text_path = \"input_text.txt\"\n",
    "text_to_speak = load_text_from_file(text_path)"
   ]
  },
  {
   "cell_type": "code",
   "execution_count": null,
   "id": "c8259738-bb34-4261-83fc-59f6f9cce8bb",
   "metadata": {},
   "outputs": [],
   "source": [
    "from chatterbox_languages import LANGUAGES\n",
    "\n",
    "lang_code = LANGUAGES[\"Spanish\"]\n",
    "\n",
    "output_english = \"example-default.wav\"\n",
    "output_spanish = \"example-spanish.wav\"\n",
    "\n",
    "output_voice_clone = \"example-voice-clone.wav\"\n",
    "audio_prompt_path = \"example-voice-sample.wav\"\n",
    "\n",
    "device = \"cuda\""
   ]
  },
  {
   "cell_type": "code",
   "execution_count": null,
   "id": "71d7da78-a00b-404e-a3d0-5c188b2b6984",
   "metadata": {},
   "outputs": [],
   "source": [
    "model = ChatterboxTTS.from_pretrained(device=device)\n",
    "multilingual_model = ChatterboxMultilingualTTS.from_pretrained(device=device)"
   ]
  },
  {
   "cell_type": "code",
   "execution_count": null,
   "id": "287fba91-9898-4e2b-8647-ee8beeedef7e",
   "metadata": {},
   "outputs": [],
   "source": [
    "def text_to_speech(text, output_file=output_english, audio_prompt=None, cfg_weight=0.5, exaggeration=0.5):\n",
    "    if audio_prompt:\n",
    "        wav = model.generate(text, audio_prompt_path=audio_prompt, cfg_weight=cfg_weight, exaggeration=exaggeration)\n",
    "    else:\n",
    "        wav = model.generate(text, cfg_weight=cfg_weight, exaggeration=exaggeration)\n",
    "    ta.save(output_file, wav, model.sr)\n",
    "    print(f\"Saved synthesized speech to {output_file}\")\n",
    "\n",
    "def multilingual_tts(text, language_id, output_file, cfg_weight=0.5, exaggeration=0.5):\n",
    "    wav = multilingual_model.generate(text, language_id=language_id, cfg_weight=cfg_weight, exaggeration=exaggeration)\n",
    "    ta.save(output_file, wav, multilingual_model.sr)\n",
    "    print(f\"Saved multilingual TTS output to {output_file}\")"
   ]
  },
  {
   "cell_type": "code",
   "execution_count": null,
   "id": "26aac0ba-d89a-4482-a29c-5d988cb54d02",
   "metadata": {},
   "outputs": [],
   "source": [
    "text_to_speech(text_to_speak, output_voice_clone, audio_prompt=audio_prompt_path, cfg_weight=0.4, exaggeration=0.6)\n",
    "#text_to_speech(text, output_english, cfg_weight=0.4, exaggeration=0.6)\n",
    "#multilingual_tts(text, lang_code, output_spanish)"
   ]
  }
 ],
 "metadata": {
  "kernelspec": {
   "display_name": "Python 3 (ipykernel)",
   "language": "python",
   "name": "python3"
  },
  "language_info": {
   "codemirror_mode": {
    "name": "ipython",
    "version": 3
   },
   "file_extension": ".py",
   "mimetype": "text/x-python",
   "name": "python",
   "nbconvert_exporter": "python",
   "pygments_lexer": "ipython3",
   "version": "3.11.10"
  }
 },
 "nbformat": 4,
 "nbformat_minor": 5
}
